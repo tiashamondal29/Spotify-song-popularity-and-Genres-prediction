{
  "cells": [
    {
      "cell_type": "markdown",
      "metadata": {
        "id": "view-in-github",
        "colab_type": "text"
      },
      "source": [
        "<a href=\"https://colab.research.google.com/github/tiashamondal29/Spotify-song-popularity-and-Genres-prediction/blob/main/Spotify_regression.ipynb\" target=\"_parent\"><img src=\"https://colab.research.google.com/assets/colab-badge.svg\" alt=\"Open In Colab\"/></a>"
      ]
    },
    {
      "cell_type": "markdown",
      "metadata": {
        "id": "UWzuajZPtf4S"
      },
      "source": [
        "# Spotify Regression: predict song popularity. \n",
        "\n",
        "This dataset includes these features:  \n",
        "**Id**: unique track identifier.  \n",
        "**title**: track title.  \n",
        "**artist**: singer or band.  \n",
        "**year**:  year of release (or re-release).  \n",
        "**bpm**:  beats per minute.  \n",
        "**nrgy**:  energy: higher, more energetic.  \n",
        "**dnce**: danceability: higher, the easier to dance to.  \n",
        "**dB**:  loudness (dB): the higher the value, the louder the song.  \n",
        "**live**: liveness: higher, more likely it's a live recording.  \n",
        "**val**: valence: higher, more positive mood.  \n",
        "**dur**: duration: song length.  \n",
        "**acous**: acousticness: higher, more acoustic.  \n",
        "**spch**: speechiness: higher, more spoken word.  \n",
        "**pop**:  popularity: higher is more popular.  \n",
        "**top genre**:  genre of the track (class label).  \n",
        "\n",
        "Spotify: https://developer.spotify.com/documentation/web-api/reference/#/operations/get-audio-features  \n",
        "\n",
        "Kaggle data: https://www.kaggle.com/cnic92/spotify-past-decades-songs-50s10s.  \n",
        "There are 13 attributes in the dataset that can be used to build a model that predicts \"popularity\"."
      ]
    },
    {
      "cell_type": "code",
      "execution_count": 288,
      "metadata": {
        "id": "cN9W8ksJtf4T"
      },
      "outputs": [],
      "source": [
        "import pandas as pd\n",
        "import numpy as np\n",
        "from sklearn.model_selection import train_test_split\n",
        "\n",
        "# plotting\n",
        "%matplotlib inline\n",
        "import matplotlib.pyplot as plt\n",
        "import seaborn as sns\n",
        "\n",
        "import warnings\n",
        "warnings.filterwarnings('ignore')"
      ]
    },
    {
      "cell_type": "code",
      "execution_count": 289,
      "metadata": {
        "colab": {
          "base_uri": "https://localhost:8080/",
          "height": 35
        },
        "id": "H_8uAN5utf4U",
        "outputId": "f21e820d-c79a-4bc5-e761-c60aaebb380d"
      },
      "outputs": [
        {
          "output_type": "display_data",
          "data": {
            "application/javascript": [
              "IPython.notebook.set_autosave_interval(60000)"
            ]
          },
          "metadata": {}
        },
        {
          "output_type": "stream",
          "name": "stdout",
          "text": [
            "Autosaving every 60 seconds\n"
          ]
        }
      ],
      "source": [
        "# default is 120 seconds\n",
        "%autosave 60 "
      ]
    },
    {
      "cell_type": "markdown",
      "metadata": {
        "id": "asxoQVdvtf4V"
      },
      "source": [
        "# Load the data\n",
        "\n",
        "Load the train and test data: the train data will be split into train and validation sets for hyperparameter tuning and to select the best model. The best model will be trained on the entire training set and used to make predictions using the test set."
      ]
    },
    {
      "cell_type": "code",
      "execution_count": 290,
      "metadata": {
        "execution": {
          "iopub.execute_input": "2023-02-19T01:26:27.820663Z",
          "iopub.status.busy": "2023-02-19T01:26:27.820212Z",
          "iopub.status.idle": "2023-02-19T01:26:27.836083Z",
          "shell.execute_reply": "2023-02-19T01:26:27.834539Z",
          "shell.execute_reply.started": "2023-02-19T01:26:27.820623Z"
        },
        "id": "X4yyBjqVtf4V"
      },
      "outputs": [],
      "source": [
        "# load dataset\n",
        "\n",
        "dataset=pd.read_csv('RegressionTrain.csv')\n",
        "test_dataset=pd.read_csv(\"RegressionTest.csv\")\n",
        "\n",
        "verbose=True   # for plots and verbose text output "
      ]
    },
    {
      "cell_type": "code",
      "execution_count": 291,
      "metadata": {
        "colab": {
          "base_uri": "https://localhost:8080/"
        },
        "id": "3eu8nFe1tf4W",
        "outputId": "8947acdf-b50d-43a5-af76-21f539249b9e"
      },
      "outputs": [
        {
          "output_type": "execute_result",
          "data": {
            "text/plain": [
              "Index(['Id', 'title', 'artist', 'top genre', 'year', 'bpm', 'nrgy', 'dnce',\n",
              "       'dB', 'live', 'val', 'dur', 'acous', 'spch', 'pop'],\n",
              "      dtype='object')"
            ]
          },
          "metadata": {},
          "execution_count": 291
        }
      ],
      "source": [
        "dataset.columns"
      ]
    },
    {
      "cell_type": "markdown",
      "metadata": {
        "id": "CDR1EzQ6tf4W"
      },
      "source": [
        "# EDA and Visualization\n",
        "\n",
        "### Data summary\n",
        "For this task our first step was to perform exporatory data analysis (EDA) and visualization.\n",
        "**train_dataset.describe()** shows a summary of the numerical training data. \n",
        "The range of values for each feature appears to be valid. For example, the range \n",
        "for bpm is 62 to 199 with a mean and median close to 120bpm, which is considered to be \n",
        "optimal for song popularity.  **train_dataset.info()** shows that top genre \n",
        "is 15 missing values (453-438). Non-Null counts should be equal, rows with missing top genre values were replace by predictions made by a Logistic Regression (LR), shown in a section below. LR was more accurate than using the mode or with an instance based model such as K Nearest Neighbors (KNN). Next,  **value_counts() and plt.bar()** revealed 86 genres, only 1 or 2 examples for most genres, but \n",
        "that was not an issue because we were trying to predict a song popularity based mostly on numerical data.\n",
        "\n",
        "### Correlation\n",
        "Multicollinearity: where independent variables are strongly correlated. This can reduce model performance. The variation inflation factor (VIF) for each variable can be computed. If predictive features yield VIF values less than 5, then this would indicate that multicollinearity is not a problem. However, the ***VIF*** output below shows that bpm and dnce are over 20!\n",
        "\n",
        "The correlation matrix below shows that dB and nrgy have the highest positively correlated features, val and dnce are second, while dnce and acoustics are the most negatively correlated. However, most of the features in this dataset have low correlation and, in fact, the application of PCA did not improve classification accuracy.\n",
        "\n",
        "### Outliers\n",
        "Next we used ***sns.boxplot()*** to reveal potential outliers. The default value for the whiskers is 1.5 standard deviations. The boxplots show that some features include data point far beyond the whiskers. While it's difficult to distinguish between significant data points and outliers (noise), we found that most values greater the 3 standards from the mean were noise. \n",
        "\n",
        "### Clusters\n",
        "t-SNE can project higher dimensional data onto a 2D space such that points that are relatively close in high dimensional space are close in 2D space.  The t-SNE plot below indicates that the songs cluster in a nonrandom way and that there pattern that may be exploited for regression.\n",
        "\n",
        "### What worked and what did not\n",
        "Most of the things we tried made either a small incremental improvement or none.  Dropping attributes (columns) usually reduced pop prediction errors (increased RMSE). PCA made little difference. Tuning model hyperparameters made little difference. But one-hot encoding title, artist, year and genre had a positive although modest impact on regression accuracy, while dropping any of the features increased RMSE.\n",
        "\n",
        "\n",
        "Data pre-processing (will be discussed after EDA and visualization.\n"
      ]
    },
    {
      "cell_type": "markdown",
      "metadata": {
        "id": "nnCre2Eltf4X"
      },
      "source": [
        "## Data exploration"
      ]
    },
    {
      "cell_type": "code",
      "execution_count": 292,
      "metadata": {
        "execution": {
          "iopub.execute_input": "2023-02-19T01:26:27.838466Z",
          "iopub.status.busy": "2023-02-19T01:26:27.838099Z",
          "iopub.status.idle": "2023-02-19T01:26:27.844139Z",
          "shell.execute_reply": "2023-02-19T01:26:27.842900Z",
          "shell.execute_reply.started": "2023-02-19T01:26:27.838432Z"
        },
        "id": "nc9BaQCDtf4X"
      },
      "outputs": [],
      "source": [
        "##copy of the original dataset\n",
        "train_dataset = dataset.copy()\n",
        "#creating a copy of the test dataset\n",
        "test_df = test_dataset.copy()"
      ]
    },
    {
      "cell_type": "markdown",
      "metadata": {
        "id": "uXFLKKobtf4Y"
      },
      "source": [
        "### Distribution of song popularity"
      ]
    },
    {
      "cell_type": "code",
      "execution_count": 293,
      "metadata": {
        "colab": {
          "base_uri": "https://localhost:8080/"
        },
        "id": "MVZC4Onltf4Y",
        "outputId": "426307e7-ca8f-4fa5-8055-b214f7b4eedd"
      },
      "outputs": [
        {
          "output_type": "stream",
          "name": "stdout",
          "text": [
            "number of c: 59\n"
          ]
        }
      ],
      "source": [
        "y_all = train_dataset[\"pop\"]\n",
        "value_counts=y_all.value_counts()\n",
        "print(\"number of c:\", len(value_counts))"
      ]
    },
    {
      "cell_type": "code",
      "execution_count": 294,
      "metadata": {
        "colab": {
          "base_uri": "https://localhost:8080/",
          "height": 241
        },
        "id": "ERaYnKy2tf4Y",
        "outputId": "00498567-d50e-4329-a5d1-eb3070be7c76"
      },
      "outputs": [
        {
          "output_type": "display_data",
          "data": {
            "text/plain": [
              "<Figure size 1440x216 with 1 Axes>"
            ],
            "image/png": "[encoded data removed]"
          },
          "metadata": {
            "needs_background": "light"
          }
        }
      ],
      "source": [
        "if verbose:\n",
        "    num_bins=len(value_counts)\n",
        "    \n",
        "    x=[x for x in range(1,num_bins+1)]\n",
        "    # full training set is very unbalanced, \n",
        "    # most genres have only 1 or 2 examples\n",
        "    plt.figure(figsize=(20,3)) \n",
        "    value_counts.hist(bins=num_bins+1); \n",
        "    plt.bar(x, value_counts.values);\n",
        "    #plt.xticks(rotation=90);\n",
        "    plt.xlabel('popularity')\n",
        "    plt.ylabel('count');\n",
        "    plt.title('Song Popularity')"
      ]
    },
    {
      "cell_type": "code",
      "execution_count": 295,
      "metadata": {
        "colab": {
          "base_uri": "https://localhost:8080/",
          "height": 227
        },
        "id": "ibB4rsV6tf4Y",
        "outputId": "74a4145b-323b-4f06-b9fb-f6d7a00c3983"
      },
      "outputs": [
        {
          "output_type": "display_data",
          "data": {
            "text/plain": [
              "<Figure size 648x216 with 2 Axes>"
            ],
            "image/png": "[encoded data removed]"
          },
          "metadata": {
            "needs_background": "light"
          }
        }
      ],
      "source": [
        "if verbose:\n",
        "  # Plot linear correlation matrix\n",
        "  cm_data=train_dataset.copy()\n",
        "  cm=cm_data.iloc[:,1:14].corr()   # make sure indices are right!\n",
        "  #cm[cm<0.45]=0\n",
        "\n",
        "  fig, ax = plt.subplots(figsize=(9,3))\n",
        "  sns.heatmap(cm, annot=True, cmap='YlGnBu', vmin=-1,\n",
        "  vmax=1, center=0, ax=ax)\n",
        "  plt.title('Correlation Heatmap')\n",
        "  plt.show()"
      ]
    },
    {
      "cell_type": "code",
      "execution_count": 296,
      "metadata": {
        "colab": {
          "base_uri": "https://localhost:8080/",
          "height": 424
        },
        "id": "cRrKIQsYtf4Z",
        "outputId": "b3c255bc-e895-4f17-959a-ef8e43f81988"
      },
      "outputs": [
        {
          "output_type": "execute_result",
          "data": {
            "text/plain": [
              "      Id                                        title            artist  \\\n",
              "0      1                                 My Happiness    Connie Francis   \n",
              "1      2                             Unchained Melody   The Teddy Bears   \n",
              "2      3                        How Deep Is Your Love          Bee Gees   \n",
              "3      4                                Woman in Love  Barbra Streisand   \n",
              "4      5  Goodbye Yellow Brick Road - Remastered 2014        Elton John   \n",
              "..   ...                                          ...               ...   \n",
              "448  449                               But Not For Me   Ella Fitzgerald   \n",
              "449  450                                    Surf City        Jan & Dean   \n",
              "450  451                                      Dilemma             Nelly   \n",
              "451  452                             It's Gonna Be Me            *NSYNC   \n",
              "452  453                              In The Army Now        Status Quo   \n",
              "\n",
              "              top genre  year  bpm  nrgy  dnce  dB  live  val  dur  acous  \\\n",
              "0       adult standards  1996  107    31    45  -8    13   28  150     75   \n",
              "1                   NaN  2011  114    44    53  -8    13   47  139     49   \n",
              "2       adult standards  1979  105    36    63  -9    13   67  245     11   \n",
              "3       adult standards  1980  170    28    47 -16    13   33  232     25   \n",
              "4             glam rock  1973  121    47    56  -8    15   40  193     45   \n",
              "..                  ...   ...  ...   ...   ...  ..   ...  ...  ...    ...   \n",
              "448     adult standards  1959   80    22    18 -17    10   16  214     92   \n",
              "449  brill building pop  2010  148    81    53 -13    23   96  147     50   \n",
              "450           dance pop  2002  168    55    73  -8    20   61  289     23   \n",
              "451            boy band  2000  165    87    64  -5     6   88  191      5   \n",
              "452          album rock  2002  105    73    68  -8    14   94  281     11   \n",
              "\n",
              "     spch  pop  \n",
              "0       3   44  \n",
              "1       3   37  \n",
              "2       3   77  \n",
              "3       3   67  \n",
              "4       3   63  \n",
              "..    ...  ...  \n",
              "448     4   45  \n",
              "449     3   50  \n",
              "450    14   77  \n",
              "451     8   62  \n",
              "452     2   59  \n",
              "\n",
              "[453 rows x 15 columns]"
            ],
            "text/html": [
              "\n",
              "  <div id=\"df-87d01de5-9495-463f-be74-cfd4974ef378\">\n",
              "    <div class=\"colab-df-container\">\n",
              "      <div>\n",
              "<style scoped>\n",
              "    .dataframe tbody tr th:only-of-type {\n",
              "        vertical-align: middle;\n",
              "    }\n",
              "\n",
              "    .dataframe tbody tr th {\n",
              "        vertical-align: top;\n",
              "    }\n",
              "\n",
              "    .dataframe thead th {\n",
              "        text-align: right;\n",
              "    }\n",
              "</style>\n",
              "<table border=\"1\" class=\"dataframe\">\n",
              "  <thead>\n",
              "    <tr style=\"text-align: right;\">\n",
              "      <th></th>\n",
              "      <th>Id</th>\n",
              "      <th>title</th>\n",
              "      <th>artist</th>\n",
              "      <th>top genre</th>\n",
              "      <th>year</th>\n",
              "      <th>bpm</th>\n",
              "      <th>nrgy</th>\n",
              "      <th>dnce</th>\n",
              "      <th>dB</th>\n",
              "      <th>live</th>\n",
              "      <th>val</th>\n",
              "      <th>dur</th>\n",
              "      <th>acous</th>\n",
              "      <th>spch</th>\n",
              "      <th>pop</th>\n",
              "    </tr>\n",
              "  </thead>\n",
              "  <tbody>\n",
              "    <tr>\n",
              "      <th>0</th>\n",
              "      <td>1</td>\n",
              "      <td>My Happiness</td>\n",
              "      <td>Connie Francis</td>\n",
              "      <td>adult standards</td>\n",
              "      <td>1996</td>\n",
              "      <td>107</td>\n",
              "      <td>31</td>\n",
              "      <td>45</td>\n",
              "      <td>-8</td>\n",
              "      <td>13</td>\n",
              "      <td>28</td>\n",
              "      <td>150</td>\n",
              "      <td>75</td>\n",
              "      <td>3</td>\n",
              "      <td>44</td>\n",
              "    </tr>\n",
              "    <tr>\n",
              "      <th>1</th>\n",
              "      <td>2</td>\n",
              "      <td>Unchained Melody</td>\n",
              "      <td>The Teddy Bears</td>\n",
              "      <td>NaN</td>\n",
              "      <td>2011</td>\n",
              "      <td>114</td>\n",
              "      <td>44</td>\n",
              "      <td>53</td>\n",
              "      <td>-8</td>\n",
              "      <td>13</td>\n",
              "      <td>47</td>\n",
              "      <td>139</td>\n",
              "      <td>49</td>\n",
              "      <td>3</td>\n",
              "      <td>37</td>\n",
              "    </tr>\n",
              "    <tr>\n",
              "      <th>2</th>\n",
              "      <td>3</td>\n",
              "      <td>How Deep Is Your Love</td>\n",
              "      <td>Bee Gees</td>\n",
              "      <td>adult standards</td>\n",
              "      <td>1979</td>\n",
              "      <td>105</td>\n",
              "      <td>36</td>\n",
              "      <td>63</td>\n",
              "      <td>-9</td>\n",
              "      <td>13</td>\n",
              "      <td>67</td>\n",
              "      <td>245</td>\n",
              "      <td>11</td>\n",
              "      <td>3</td>\n",
              "      <td>77</td>\n",
              "    </tr>\n",
              "    <tr>\n",
              "      <th>3</th>\n",
              "      <td>4</td>\n",
              "      <td>Woman in Love</td>\n",
              "      <td>Barbra Streisand</td>\n",
              "      <td>adult standards</td>\n",
              "      <td>1980</td>\n",
              "      <td>170</td>\n",
              "      <td>28</td>\n",
              "      <td>47</td>\n",
              "      <td>-16</td>\n",
              "      <td>13</td>\n",
              "      <td>33</td>\n",
              "      <td>232</td>\n",
              "      <td>25</td>\n",
              "      <td>3</td>\n",
              "      <td>67</td>\n",
              "    </tr>\n",
              "    <tr>\n",
              "      <th>4</th>\n",
              "      <td>5</td>\n",
              "      <td>Goodbye Yellow Brick Road - Remastered 2014</td>\n",
              "      <td>Elton John</td>\n",
              "      <td>glam rock</td>\n",
              "      <td>1973</td>\n",
              "      <td>121</td>\n",
              "      <td>47</td>\n",
              "      <td>56</td>\n",
              "      <td>-8</td>\n",
              "      <td>15</td>\n",
              "      <td>40</td>\n",
              "      <td>193</td>\n",
              "      <td>45</td>\n",
              "      <td>3</td>\n",
              "      <td>63</td>\n",
              "    </tr>\n",
              "    <tr>\n",
              "      <th>...</th>\n",
              "      <td>...</td>\n",
              "      <td>...</td>\n",
              "      <td>...</td>\n",
              "      <td>...</td>\n",
              "      <td>...</td>\n",
              "      <td>...</td>\n",
              "      <td>...</td>\n",
              "      <td>...</td>\n",
              "      <td>...</td>\n",
              "      <td>...</td>\n",
              "      <td>...</td>\n",
              "      <td>...</td>\n",
              "      <td>...</td>\n",
              "      <td>...</td>\n",
              "      <td>...</td>\n",
              "    </tr>\n",
              "    <tr>\n",
              "      <th>448</th>\n",
              "      <td>449</td>\n",
              "      <td>But Not For Me</td>\n",
              "      <td>Ella Fitzgerald</td>\n",
              "      <td>adult standards</td>\n",
              "      <td>1959</td>\n",
              "      <td>80</td>\n",
              "      <td>22</td>\n",
              "      <td>18</td>\n",
              "      <td>-17</td>\n",
              "      <td>10</td>\n",
              "      <td>16</td>\n",
              "      <td>214</td>\n",
              "      <td>92</td>\n",
              "      <td>4</td>\n",
              "      <td>45</td>\n",
              "    </tr>\n",
              "    <tr>\n",
              "      <th>449</th>\n",
              "      <td>450</td>\n",
              "      <td>Surf City</td>\n",
              "      <td>Jan &amp; Dean</td>\n",
              "      <td>brill building pop</td>\n",
              "      <td>2010</td>\n",
              "      <td>148</td>\n",
              "      <td>81</td>\n",
              "      <td>53</td>\n",
              "      <td>-13</td>\n",
              "      <td>23</td>\n",
              "      <td>96</td>\n",
              "      <td>147</td>\n",
              "      <td>50</td>\n",
              "      <td>3</td>\n",
              "      <td>50</td>\n",
              "    </tr>\n",
              "    <tr>\n",
              "      <th>450</th>\n",
              "      <td>451</td>\n",
              "      <td>Dilemma</td>\n",
              "      <td>Nelly</td>\n",
              "      <td>dance pop</td>\n",
              "      <td>2002</td>\n",
              "      <td>168</td>\n",
              "      <td>55</td>\n",
              "      <td>73</td>\n",
              "      <td>-8</td>\n",
              "      <td>20</td>\n",
              "      <td>61</td>\n",
              "      <td>289</td>\n",
              "      <td>23</td>\n",
              "      <td>14</td>\n",
              "      <td>77</td>\n",
              "    </tr>\n",
              "    <tr>\n",
              "      <th>451</th>\n",
              "      <td>452</td>\n",
              "      <td>It's Gonna Be Me</td>\n",
              "      <td>*NSYNC</td>\n",
              "      <td>boy band</td>\n",
              "      <td>2000</td>\n",
              "      <td>165</td>\n",
              "      <td>87</td>\n",
              "      <td>64</td>\n",
              "      <td>-5</td>\n",
              "      <td>6</td>\n",
              "      <td>88</td>\n",
              "      <td>191</td>\n",
              "      <td>5</td>\n",
              "      <td>8</td>\n",
              "      <td>62</td>\n",
              "    </tr>\n",
              "    <tr>\n",
              "      <th>452</th>\n",
              "      <td>453</td>\n",
              "      <td>In The Army Now</td>\n",
              "      <td>Status Quo</td>\n",
              "      <td>album rock</td>\n",
              "      <td>2002</td>\n",
              "      <td>105</td>\n",
              "      <td>73</td>\n",
              "      <td>68</td>\n",
              "      <td>-8</td>\n",
              "      <td>14</td>\n",
              "      <td>94</td>\n",
              "      <td>281</td>\n",
              "      <td>11</td>\n",
              "      <td>2</td>\n",
              "      <td>59</td>\n",
              "    </tr>\n",
              "  </tbody>\n",
              "</table>\n",
              "<p>453 rows × 15 columns</p>\n",
              "</div>\n",
              "      <button class=\"colab-df-convert\" onclick=\"convertToInteractive('df-87d01de5-9495-463f-be74-cfd4974ef378')\"\n",
              "              title=\"Convert this dataframe to an interactive table.\"\n",
              "              style=\"display:none;\">\n",
              "        \n",
              "  <svg xmlns=\"http://www.w3.org/2000/svg\" height=\"24px\"viewBox=\"0 0 24 24\"\n",
              "       width=\"24px\">\n",
              "    <path d=\"M0 0h24v24H0V0z\" fill=\"none\"/>\n",
              "    <path d=\"M18.56 5.44l.94 2.06.94-2.06 2.06-.94-2.06-.94-.94-2.06-.94 2.06-2.06.94zm-11 1L8.5 8.5l.94-2.06 2.06-.94-2.06-.94L8.5 2.5l-.94 2.06-2.06.94zm10 10l.94 2.06.94-2.06 2.06-.94-2.06-.94-.94-2.06-.94 2.06-2.06.94z\"/><path d=\"M17.41 7.96l-1.37-1.37c-.4-.4-.92-.59-1.43-.59-.52 0-1.04.2-1.43.59L10.3 9.45l-7.72 7.72c-.78.78-.78 2.05 0 2.83L4 21.41c.39.39.9.59 1.41.59.51 0 1.02-.2 1.41-.59l7.78-7.78 2.81-2.81c.8-.78.8-2.07 0-2.86zM5.41 20L4 18.59l7.72-7.72 1.47 1.35L5.41 20z\"/>\n",
              "  </svg>\n",
              "      </button>\n",
              "      \n",
              "  <style>\n",
              "    .colab-df-container {\n",
              "      display:flex;\n",
              "      flex-wrap:wrap;\n",
              "      gap: 12px;\n",
              "    }\n",
              "\n",
              "    .colab-df-convert {\n",
              "      background-color: #E8F0FE;\n",
              "      border: none;\n",
              "      border-radius: 50%;\n",
              "      cursor: pointer;\n",
              "      display: none;\n",
              "      fill: #1967D2;\n",
              "      height: 32px;\n",
              "      padding: 0 0 0 0;\n",
              "      width: 32px;\n",
              "    }\n",
              "\n",
              "    .colab-df-convert:hover {\n",
              "      background-color: #E2EBFA;\n",
              "      box-shadow: 0px 1px 2px rgba(60, 64, 67, 0.3), 0px 1px 3px 1px rgba(60, 64, 67, 0.15);\n",
              "      fill: #174EA6;\n",
              "    }\n",
              "\n",
              "    [theme=dark] .colab-df-convert {\n",
              "      background-color: #3B4455;\n",
              "      fill: #D2E3FC;\n",
              "    }\n",
              "\n",
              "    [theme=dark] .colab-df-convert:hover {\n",
              "      background-color: #434B5C;\n",
              "      box-shadow: 0px 1px 3px 1px rgba(0, 0, 0, 0.15);\n",
              "      filter: drop-shadow(0px 1px 2px rgba(0, 0, 0, 0.3));\n",
              "      fill: #FFFFFF;\n",
              "    }\n",
              "  </style>\n",
              "\n",
              "      <script>\n",
              "        const buttonEl =\n",
              "          document.querySelector('#df-87d01de5-9495-463f-be74-cfd4974ef378 button.colab-df-convert');\n",
              "        buttonEl.style.display =\n",
              "          google.colab.kernel.accessAllowed ? 'block' : 'none';\n",
              "\n",
              "        async function convertToInteractive(key) {\n",
              "          const element = document.querySelector('#df-87d01de5-9495-463f-be74-cfd4974ef378');\n",
              "          const dataTable =\n",
              "            await google.colab.kernel.invokeFunction('convertToInteractive',\n",
              "                                                     [key], {});\n",
              "          if (!dataTable) return;\n",
              "\n",
              "          const docLinkHtml = 'Like what you see? Visit the ' +\n",
              "            '<a target=\"_blank\" href=https://colab.research.google.com/notebooks/data_table.ipynb>data table notebook</a>'\n",
              "            + ' to learn more about interactive tables.';\n",
              "          element.innerHTML = '';\n",
              "          dataTable['output_type'] = 'display_data';\n",
              "          await google.colab.output.renderOutput(dataTable, element);\n",
              "          const docLink = document.createElement('div');\n",
              "          docLink.innerHTML = docLinkHtml;\n",
              "          element.appendChild(docLink);\n",
              "        }\n",
              "      </script>\n",
              "    </div>\n",
              "  </div>\n",
              "  "
            ]
          },
          "metadata": {},
          "execution_count": 296
        }
      ],
      "source": [
        "train_dataset"
      ]
    },
    {
      "cell_type": "markdown",
      "metadata": {
        "id": "gjBwfMzLtf4Z"
      },
      "source": [
        "### VIF\n",
        "\n",
        "We calculated the variance inflation factor for each feature. The equation: **VIF = 1/(1-R^2)** where R^2 is the coefficient of determination. In general, if a feature that has a VIF value greater than 5 is considered to be highly collinear with other features in the data.  The output below shows that bpm and dnce are over 20!  Unfortunately, carefully dropping some of these features to assess their impact on regression must be left to future work. "
      ]
    },
    {
      "cell_type": "code",
      "execution_count": 297,
      "metadata": {
        "colab": {
          "base_uri": "https://localhost:8080/",
          "height": 332
        },
        "id": "dxVV-Ovntf4Z",
        "outputId": "51bd1caa-9604-45bb-c584-55e329b020f7"
      },
      "outputs": [
        {
          "output_type": "execute_result",
          "data": {
            "text/plain": [
              "  feature        VIF\n",
              "0     bpm  20.145035\n",
              "1    nrgy  19.446066\n",
              "2    dnce  20.229727\n",
              "3      dB  10.584092\n",
              "4    live   2.708729\n",
              "5     val  11.575961\n",
              "6     dur  14.519625\n",
              "7   acous   3.140740\n",
              "8    spch   2.282084"
            ],
            "text/html": [
              "\n",
              "  <div id=\"df-e4dd1b7b-02e7-46fc-9654-1c50b70c4136\">\n",
              "    <div class=\"colab-df-container\">\n",
              "      <div>\n",
              "<style scoped>\n",
              "    .dataframe tbody tr th:only-of-type {\n",
              "        vertical-align: middle;\n",
              "    }\n",
              "\n",
              "    .dataframe tbody tr th {\n",
              "        vertical-align: top;\n",
              "    }\n",
              "\n",
              "    .dataframe thead th {\n",
              "        text-align: right;\n",
              "    }\n",
              "</style>\n",
              "<table border=\"1\" class=\"dataframe\">\n",
              "  <thead>\n",
              "    <tr style=\"text-align: right;\">\n",
              "      <th></th>\n",
              "      <th>feature</th>\n",
              "      <th>VIF</th>\n",
              "    </tr>\n",
              "  </thead>\n",
              "  <tbody>\n",
              "    <tr>\n",
              "      <th>0</th>\n",
              "      <td>bpm</td>\n",
              "      <td>20.145035</td>\n",
              "    </tr>\n",
              "    <tr>\n",
              "      <th>1</th>\n",
              "      <td>nrgy</td>\n",
              "      <td>19.446066</td>\n",
              "    </tr>\n",
              "    <tr>\n",
              "      <th>2</th>\n",
              "      <td>dnce</td>\n",
              "      <td>20.229727</td>\n",
              "    </tr>\n",
              "    <tr>\n",
              "      <th>3</th>\n",
              "      <td>dB</td>\n",
              "      <td>10.584092</td>\n",
              "    </tr>\n",
              "    <tr>\n",
              "      <th>4</th>\n",
              "      <td>live</td>\n",
              "      <td>2.708729</td>\n",
              "    </tr>\n",
              "    <tr>\n",
              "      <th>5</th>\n",
              "      <td>val</td>\n",
              "      <td>11.575961</td>\n",
              "    </tr>\n",
              "    <tr>\n",
              "      <th>6</th>\n",
              "      <td>dur</td>\n",
              "      <td>14.519625</td>\n",
              "    </tr>\n",
              "    <tr>\n",
              "      <th>7</th>\n",
              "      <td>acous</td>\n",
              "      <td>3.140740</td>\n",
              "    </tr>\n",
              "    <tr>\n",
              "      <th>8</th>\n",
              "      <td>spch</td>\n",
              "      <td>2.282084</td>\n",
              "    </tr>\n",
              "  </tbody>\n",
              "</table>\n",
              "</div>\n",
              "      <button class=\"colab-df-convert\" onclick=\"convertToInteractive('df-e4dd1b7b-02e7-46fc-9654-1c50b70c4136')\"\n",
              "              title=\"Convert this dataframe to an interactive table.\"\n",
              "              style=\"display:none;\">\n",
              "        \n",
              "  <svg xmlns=\"http://www.w3.org/2000/svg\" height=\"24px\"viewBox=\"0 0 24 24\"\n",
              "       width=\"24px\">\n",
              "    <path d=\"M0 0h24v24H0V0z\" fill=\"none\"/>\n",
              "    <path d=\"M18.56 5.44l.94 2.06.94-2.06 2.06-.94-2.06-.94-.94-2.06-.94 2.06-2.06.94zm-11 1L8.5 8.5l.94-2.06 2.06-.94-2.06-.94L8.5 2.5l-.94 2.06-2.06.94zm10 10l.94 2.06.94-2.06 2.06-.94-2.06-.94-.94-2.06-.94 2.06-2.06.94z\"/><path d=\"M17.41 7.96l-1.37-1.37c-.4-.4-.92-.59-1.43-.59-.52 0-1.04.2-1.43.59L10.3 9.45l-7.72 7.72c-.78.78-.78 2.05 0 2.83L4 21.41c.39.39.9.59 1.41.59.51 0 1.02-.2 1.41-.59l7.78-7.78 2.81-2.81c.8-.78.8-2.07 0-2.86zM5.41 20L4 18.59l7.72-7.72 1.47 1.35L5.41 20z\"/>\n",
              "  </svg>\n",
              "      </button>\n",
              "      \n",
              "  <style>\n",
              "    .colab-df-container {\n",
              "      display:flex;\n",
              "      flex-wrap:wrap;\n",
              "      gap: 12px;\n",
              "    }\n",
              "\n",
              "    .colab-df-convert {\n",
              "      background-color: #E8F0FE;\n",
              "      border: none;\n",
              "      border-radius: 50%;\n",
              "      cursor: pointer;\n",
              "      display: none;\n",
              "      fill: #1967D2;\n",
              "      height: 32px;\n",
              "      padding: 0 0 0 0;\n",
              "      width: 32px;\n",
              "    }\n",
              "\n",
              "    .colab-df-convert:hover {\n",
              "      background-color: #E2EBFA;\n",
              "      box-shadow: 0px 1px 2px rgba(60, 64, 67, 0.3), 0px 1px 3px 1px rgba(60, 64, 67, 0.15);\n",
              "      fill: #174EA6;\n",
              "    }\n",
              "\n",
              "    [theme=dark] .colab-df-convert {\n",
              "      background-color: #3B4455;\n",
              "      fill: #D2E3FC;\n",
              "    }\n",
              "\n",
              "    [theme=dark] .colab-df-convert:hover {\n",
              "      background-color: #434B5C;\n",
              "      box-shadow: 0px 1px 3px 1px rgba(0, 0, 0, 0.15);\n",
              "      filter: drop-shadow(0px 1px 2px rgba(0, 0, 0, 0.3));\n",
              "      fill: #FFFFFF;\n",
              "    }\n",
              "  </style>\n",
              "\n",
              "      <script>\n",
              "        const buttonEl =\n",
              "          document.querySelector('#df-e4dd1b7b-02e7-46fc-9654-1c50b70c4136 button.colab-df-convert');\n",
              "        buttonEl.style.display =\n",
              "          google.colab.kernel.accessAllowed ? 'block' : 'none';\n",
              "\n",
              "        async function convertToInteractive(key) {\n",
              "          const element = document.querySelector('#df-e4dd1b7b-02e7-46fc-9654-1c50b70c4136');\n",
              "          const dataTable =\n",
              "            await google.colab.kernel.invokeFunction('convertToInteractive',\n",
              "                                                     [key], {});\n",
              "          if (!dataTable) return;\n",
              "\n",
              "          const docLinkHtml = 'Like what you see? Visit the ' +\n",
              "            '<a target=\"_blank\" href=https://colab.research.google.com/notebooks/data_table.ipynb>data table notebook</a>'\n",
              "            + ' to learn more about interactive tables.';\n",
              "          element.innerHTML = '';\n",
              "          dataTable['output_type'] = 'display_data';\n",
              "          await google.colab.output.renderOutput(dataTable, element);\n",
              "          const docLink = document.createElement('div');\n",
              "          docLink.innerHTML = docLinkHtml;\n",
              "          element.appendChild(docLink);\n",
              "        }\n",
              "      </script>\n",
              "    </div>\n",
              "  </div>\n",
              "  "
            ]
          },
          "metadata": {},
          "execution_count": 297
        }
      ],
      "source": [
        "from statsmodels.stats.outliers_influence import variance_inflation_factor\n",
        "\n",
        "num_data=train_dataset.iloc[:,5:14].copy()   # if this fails, the indices are wrong\n",
        "VIF             = pd.DataFrame()\n",
        "VIF['feature']  = num_data.columns\n",
        "VIF['VIF']      = [variance_inflation_factor(num_data.values, i) for i in range(num_data.shape[1])]\n",
        "VIF"
      ]
    },
    {
      "cell_type": "markdown",
      "metadata": {
        "id": "gi0oXH9Ntf4Z"
      },
      "source": [
        "### Boxplots show outliers"
      ]
    },
    {
      "cell_type": "code",
      "execution_count": 298,
      "metadata": {
        "colab": {
          "base_uri": "https://localhost:8080/",
          "height": 301
        },
        "id": "4HPAEgF2tf4Z",
        "outputId": "a6f27ea9-51dc-48b0-85a5-842c3a1c5f53"
      },
      "outputs": [
        {
          "output_type": "display_data",
          "data": {
            "text/plain": [
              "<Figure size 504x360 with 10 Axes>"
            ],
            "image/png": "[encoded data removed]"
          },
          "metadata": {
            "needs_background": "light"
          }
        }
      ],
      "source": [
        "#boxplots: visualize data distributions and outliers\n",
        "if verbose:\n",
        "  plt.figure(figsize=(7,5));\n",
        "  df=train_dataset.drop(\"top genre\", axis=1, inplace=False)\n",
        "  attributes=df.columns.values.tolist()\n",
        "  idx=4\n",
        "  for attribute in attributes[idx:]:\n",
        "    plt.subplot(5,3,idx)\n",
        "    sns.boxplot(x=train_dataset[attribute])\n",
        "    idx=idx+1\n",
        "  plt.tight_layout(pad=1)"
      ]
    },
    {
      "cell_type": "markdown",
      "metadata": {
        "id": "3jb8mZvVtf4Z"
      },
      "source": [
        "### t-SNE shows some clustering in the training data"
      ]
    },
    {
      "cell_type": "code",
      "execution_count": 299,
      "metadata": {
        "colab": {
          "base_uri": "https://localhost:8080/",
          "height": 293
        },
        "id": "0vhUsekqtf4Z",
        "outputId": "14fb4567-1209-4d96-f231-7cdeb7da44c9"
      },
      "outputs": [
        {
          "output_type": "display_data",
          "data": {
            "text/plain": [
              "<Figure size 360x288 with 1 Axes>"
            ],
            "image/png": "[encoded data removed]"
          },
          "metadata": {
            "needs_background": "light"
          }
        }
      ],
      "source": [
        "show_legend=False\n",
        "\n",
        "# visualize training data\n",
        "temp_data=dataset.copy()\n",
        "#temp_data.dropna(axis=0, inplace=True)\n",
        "temp_data.drop(['title','artist', 'top genre'], axis=1, inplace=True)\n",
        "df = pd.DataFrame()\n",
        "df[\"y\"] = temp_data['pop'].copy();\n",
        "y_pop=df[\"y\"].sort_values(ascending=False)\n",
        "#temp_data.drop(['pop'], axis=1, inplace=True)\n",
        "\n",
        "if verbose:\n",
        "  import numpy as np\n",
        "  from sklearn.manifold import TSNE\n",
        "\n",
        "  X_train_embedded = TSNE(n_components=2, learning_rate='auto',\n",
        "                    init='random', perplexity=3).fit_transform(temp_data)\n",
        "  X_train_embedded.shape\n",
        "                \n",
        "  df[\"comp-1\"] = X_train_embedded[:,0]\n",
        "  df[\"comp-2\"] = X_train_embedded[:,1]\n",
        "    \n",
        "  # 59 unique pop scores, must be done after drop NA\n",
        "  n_colors=len(df[\"y\"].unique()) \n",
        "  plt.figure(figsize=(5,4));\n",
        "  T=sns.scatterplot(x=\"comp-1\", y=\"comp-2\", hue=y_pop, legend=show_legend,\\\n",
        "                    palette=sns.color_palette(\"rocket\", n_colors), \\\n",
        "                    data=df, alpha=.9);\n",
        "  plt.title('t-SNE projection: lighter indicates more popular', fontsize=10)\n",
        "    \n",
        "  if show_legend:\n",
        "    plt.legend(bbox_to_anchor=(1.4, 1), loc='upper right', borderaxespad=0);"
      ]
    },
    {
      "cell_type": "markdown",
      "metadata": {
        "id": "9GUAPC88tf4a"
      },
      "source": [
        "# Data Pre Processing Steps on Train Set"
      ]
    },
    {
      "cell_type": "markdown",
      "metadata": {
        "id": "EohZAZFvtf4a"
      },
      "source": [
        "### Building the training set such that it works with one-hot encoding\n",
        "\n",
        "Based on data exporation and analysis, we decided to one-hot encode some of the categorical features on the theory that they comntained some information. Intuitively, we suspected that year is at least weakly associated with song popularity, while genre artist would be more strongly associated with popuarity."
      ]
    },
    {
      "cell_type": "code",
      "execution_count": 300,
      "metadata": {
        "execution": {
          "iopub.execute_input": "2023-02-19T01:26:27.846218Z",
          "iopub.status.busy": "2023-02-19T01:26:27.845762Z",
          "iopub.status.idle": "2023-02-19T01:26:27.856244Z",
          "shell.execute_reply": "2023-02-19T01:26:27.855021Z",
          "shell.execute_reply.started": "2023-02-19T01:26:27.846079Z"
        },
        "id": "7Yiwa4xptf4a"
      },
      "outputs": [],
      "source": [
        "# dropping the columns not required from train dataset\n",
        "dataset = dataset.drop([\"Id\"], axis=1)\n",
        "#dropping the pop column for test set\n",
        "test_dataset = test_dataset.drop([\"Id\"], axis=1)"
      ]
    },
    {
      "cell_type": "code",
      "execution_count": 301,
      "metadata": {
        "id": "wYdUUMNctf4a"
      },
      "outputs": [],
      "source": [
        "##copy of the original dataset\n",
        "train_dataset = dataset.copy()"
      ]
    },
    {
      "cell_type": "code",
      "execution_count": 302,
      "metadata": {
        "execution": {
          "iopub.execute_input": "2023-02-19T01:26:27.869540Z",
          "iopub.status.busy": "2023-02-19T01:26:27.869139Z",
          "iopub.status.idle": "2023-02-19T01:26:27.883750Z",
          "shell.execute_reply": "2023-02-19T01:26:27.882463Z",
          "shell.execute_reply.started": "2023-02-19T01:26:27.869501Z"
        },
        "id": "mX3JNsUDtf4a"
      },
      "outputs": [],
      "source": [
        "#creating pop in the test dataset\n",
        "c = \"pop\"\n",
        "test_dataset = test_dataset.assign(**{c: pd.Series(dtype='object')})"
      ]
    },
    {
      "cell_type": "code",
      "execution_count": 303,
      "metadata": {
        "execution": {
          "iopub.execute_input": "2023-02-19T01:26:27.886598Z",
          "iopub.status.busy": "2023-02-19T01:26:27.886181Z",
          "iopub.status.idle": "2023-02-19T01:26:27.895897Z",
          "shell.execute_reply": "2023-02-19T01:26:27.894580Z",
          "shell.execute_reply.started": "2023-02-19T01:26:27.886561Z"
        },
        "id": "J8wdxv9Ftf4b"
      },
      "outputs": [],
      "source": [
        "#concating the train and test dataset\n",
        "concatenated_dataset = pd.concat([dataset, test_dataset])"
      ]
    },
    {
      "cell_type": "code",
      "execution_count": 304,
      "metadata": {
        "execution": {
          "iopub.execute_input": "2023-02-19T01:26:27.898049Z",
          "iopub.status.busy": "2023-02-19T01:26:27.897648Z",
          "iopub.status.idle": "2023-02-19T01:26:27.911590Z",
          "shell.execute_reply": "2023-02-19T01:26:27.910263Z",
          "shell.execute_reply.started": "2023-02-19T01:26:27.898016Z"
        },
        "id": "SxIFiLmntf4b"
      },
      "outputs": [],
      "source": [
        "#give the same column name as the original dataset \n",
        "concatenated_dataset = concatenated_dataset.reset_index(drop=True)\n",
        "concatenated_dataset.columns= train_dataset.columns"
      ]
    },
    {
      "cell_type": "code",
      "execution_count": 305,
      "metadata": {
        "execution": {
          "iopub.execute_input": "2023-02-19T01:26:27.914711Z",
          "iopub.status.busy": "2023-02-19T01:26:27.913439Z",
          "iopub.status.idle": "2023-02-19T01:26:27.939142Z",
          "shell.execute_reply": "2023-02-19T01:26:27.937936Z",
          "shell.execute_reply.started": "2023-02-19T01:26:27.914668Z"
        },
        "id": "4hcg6bRatf4b"
      },
      "outputs": [],
      "source": [
        "if verbose:\n",
        "    concatenated_dataset"
      ]
    },
    {
      "cell_type": "code",
      "execution_count": 306,
      "metadata": {
        "execution": {
          "iopub.execute_input": "2023-02-19T01:26:28.062032Z",
          "iopub.status.busy": "2023-02-19T01:26:28.061012Z",
          "iopub.status.idle": "2023-02-19T01:26:28.068907Z",
          "shell.execute_reply": "2023-02-19T01:26:28.067732Z",
          "shell.execute_reply.started": "2023-02-19T01:26:28.061986Z"
        },
        "id": "auOiMk6qtf4b"
      },
      "outputs": [],
      "source": [
        "#dividing the dataset into dependable and independent variables\n",
        "x_con_data=concatenated_dataset.iloc[:,:-1]\n",
        "y_con_data=concatenated_dataset.iloc[:,-1]"
      ]
    },
    {
      "cell_type": "markdown",
      "metadata": {
        "id": "bRbdQV2etf4b"
      },
      "source": [
        "### One-hot encoding"
      ]
    },
    {
      "cell_type": "code",
      "execution_count": 307,
      "metadata": {
        "execution": {
          "iopub.execute_input": "2023-02-19T01:26:28.072618Z",
          "iopub.status.busy": "2023-02-19T01:26:28.071473Z",
          "iopub.status.idle": "2023-02-19T01:26:28.088882Z",
          "shell.execute_reply": "2023-02-19T01:26:28.087712Z",
          "shell.execute_reply.started": "2023-02-19T01:26:28.072555Z"
        },
        "id": "c26FZKEdtf4b"
      },
      "outputs": [],
      "source": [
        "#one hot encoding\n",
        "\n",
        "# select the categorical variables\n",
        "categorical_variables = ['title','artist','year']\n",
        "\n",
        "# perform one hot encoding\n",
        "x_con_data = pd.get_dummies(x_con_data, columns=categorical_variables)"
      ]
    },
    {
      "cell_type": "code",
      "execution_count": 308,
      "metadata": {
        "execution": {
          "iopub.execute_input": "2023-02-19T01:26:28.090908Z",
          "iopub.status.busy": "2023-02-19T01:26:28.090521Z",
          "iopub.status.idle": "2023-02-19T01:26:28.098037Z",
          "shell.execute_reply": "2023-02-19T01:26:28.097053Z",
          "shell.execute_reply.started": "2023-02-19T01:26:28.090874Z"
        },
        "id": "oF6wHdintf4b"
      },
      "outputs": [],
      "source": [
        "#adding the pop in the one hot encoded dataset\n",
        "x_con_data['pop'] = y_con_data\n",
        "#assigning the data to the variable concatenated data\n",
        "concatenated_dataset = x_con_data"
      ]
    },
    {
      "cell_type": "code",
      "execution_count": 309,
      "metadata": {
        "execution": {
          "iopub.execute_input": "2023-02-19T01:26:28.099388Z",
          "iopub.status.busy": "2023-02-19T01:26:28.099013Z",
          "iopub.status.idle": "2023-02-19T01:26:28.131978Z",
          "shell.execute_reply": "2023-02-19T01:26:28.130703Z",
          "shell.execute_reply.started": "2023-02-19T01:26:28.099353Z"
        },
        "id": "V_x4Uebstf4b"
      },
      "outputs": [],
      "source": [
        "if verbose:\n",
        "    concatenated_dataset"
      ]
    },
    {
      "cell_type": "markdown",
      "metadata": {
        "id": "5levaafdtf4b"
      },
      "source": [
        "### Split the concatenated dataset back into train and test sets."
      ]
    },
    {
      "cell_type": "code",
      "execution_count": 310,
      "metadata": {
        "execution": {
          "iopub.execute_input": "2023-02-19T01:26:28.137654Z",
          "iopub.status.busy": "2023-02-19T01:26:28.136632Z",
          "iopub.status.idle": "2023-02-19T01:26:28.145831Z",
          "shell.execute_reply": "2023-02-19T01:26:28.144725Z",
          "shell.execute_reply.started": "2023-02-19T01:26:28.137614Z"
        },
        "colab": {
          "base_uri": "https://localhost:8080/"
        },
        "id": "uSd7AnzVtf4b",
        "outputId": "25902d99-f2e5-4b66-971b-22200b64ed05"
      },
      "outputs": [
        {
          "output_type": "stream",
          "name": "stdout",
          "text": [
            "Training dataset size: (453, 1048)\n",
            "Testing dataset size: (114, 1048)\n"
          ]
        }
      ],
      "source": [
        "# Manually specify the row index to split the dataset\n",
        "split_index = train_dataset.shape[0]\n",
        "\n",
        "# Split the dataset into two parts\n",
        "dataset = concatenated_dataset.iloc[:split_index]\n",
        "test_dataset = concatenated_dataset.iloc[split_index:]\n",
        "\n",
        "# Print the size of the training and testing datasets\n",
        "print(f\"Training dataset size: {np.shape(dataset)}\")\n",
        "print(f\"Testing dataset size: {np.shape(test_dataset)}\")"
      ]
    },
    {
      "cell_type": "code",
      "execution_count": 311,
      "metadata": {
        "execution": {
          "iopub.execute_input": "2023-02-19T01:26:28.147433Z",
          "iopub.status.busy": "2023-02-19T01:26:28.147070Z",
          "iopub.status.idle": "2023-02-19T01:26:28.180726Z",
          "shell.execute_reply": "2023-02-19T01:26:28.179426Z",
          "shell.execute_reply.started": "2023-02-19T01:26:28.147395Z"
        },
        "id": "D2al2glDtf4c"
      },
      "outputs": [],
      "source": [
        "if verbose:\n",
        "    dataset"
      ]
    },
    {
      "cell_type": "code",
      "execution_count": 312,
      "metadata": {
        "execution": {
          "iopub.execute_input": "2023-02-19T01:26:28.183495Z",
          "iopub.status.busy": "2023-02-19T01:26:28.182404Z",
          "iopub.status.idle": "2023-02-19T01:26:28.208853Z",
          "shell.execute_reply": "2023-02-19T01:26:28.207578Z",
          "shell.execute_reply.started": "2023-02-19T01:26:28.183459Z"
        },
        "id": "D4QOjiAAtf4c"
      },
      "outputs": [],
      "source": [
        "if verbose:\n",
        "    test_dataset"
      ]
    },
    {
      "cell_type": "markdown",
      "metadata": {
        "id": "DMp_Q51qtf4c"
      },
      "source": [
        "### Detect missing values and make records"
      ]
    },
    {
      "cell_type": "code",
      "execution_count": 313,
      "metadata": {
        "execution": {
          "iopub.execute_input": "2023-02-19T01:26:28.211590Z",
          "iopub.status.busy": "2023-02-19T01:26:28.210509Z",
          "iopub.status.idle": "2023-02-19T01:26:28.228059Z",
          "shell.execute_reply": "2023-02-19T01:26:28.226792Z",
          "shell.execute_reply.started": "2023-02-19T01:26:28.211553Z"
        },
        "colab": {
          "base_uri": "https://localhost:8080/"
        },
        "id": "8mVfwzyktf4c",
        "outputId": "3b635ede-a371-4f06-b107-57dadf282014"
      },
      "outputs": [
        {
          "output_type": "stream",
          "name": "stdout",
          "text": [
            "top genre     True\n",
            "bpm          False\n",
            "nrgy         False\n",
            "dnce         False\n",
            "dB           False\n",
            "             ...  \n",
            "year_2015    False\n",
            "year_2016    False\n",
            "year_2017    False\n",
            "year_2018    False\n",
            "year_2019    False\n",
            "Length: 1047, dtype: bool\n",
            "False\n"
          ]
        }
      ],
      "source": [
        "#checking for null values in each columns in the dataset\n",
        "print(dataset.iloc[:,:-1].isnull().any())\n",
        "print(dataset.iloc[:,-1].isnull().any())"
      ]
    },
    {
      "cell_type": "code",
      "execution_count": 314,
      "metadata": {
        "execution": {
          "iopub.execute_input": "2023-02-19T01:26:28.230004Z",
          "iopub.status.busy": "2023-02-19T01:26:28.229614Z",
          "iopub.status.idle": "2023-02-19T01:26:28.238066Z",
          "shell.execute_reply": "2023-02-19T01:26:28.236695Z",
          "shell.execute_reply.started": "2023-02-19T01:26:28.229963Z"
        },
        "id": "A0A-4oEftf4c"
      },
      "outputs": [],
      "source": [
        "##copy of the genre dataset\n",
        "genre_dataset = dataset[['top genre']]"
      ]
    },
    {
      "cell_type": "code",
      "execution_count": 315,
      "metadata": {
        "execution": {
          "iopub.execute_input": "2023-02-19T01:26:28.240218Z",
          "iopub.status.busy": "2023-02-19T01:26:28.239839Z",
          "iopub.status.idle": "2023-02-19T01:26:28.253635Z",
          "shell.execute_reply": "2023-02-19T01:26:28.252168Z",
          "shell.execute_reply.started": "2023-02-19T01:26:28.240185Z"
        },
        "id": "F0Z04tjXtf4c"
      },
      "outputs": [],
      "source": [
        "from sklearn.model_selection import train_test_split\n",
        "# Create a boolean mask of rows with missing values\n",
        "mask = dataset.isnull().any(axis=1)\n",
        "\n",
        "# Split the data into two sets: with and without missing values\n",
        "test_set = dataset[mask]\n",
        "train_set = dataset[~mask]"
      ]
    },
    {
      "cell_type": "code",
      "execution_count": 316,
      "metadata": {
        "execution": {
          "iopub.execute_input": "2023-02-19T01:26:28.255886Z",
          "iopub.status.busy": "2023-02-19T01:26:28.255503Z",
          "iopub.status.idle": "2023-02-19T01:26:28.265399Z",
          "shell.execute_reply": "2023-02-19T01:26:28.264455Z",
          "shell.execute_reply.started": "2023-02-19T01:26:28.255851Z"
        },
        "id": "yned_wdNtf4c"
      },
      "outputs": [],
      "source": [
        "#extracting the pop column\n",
        "pop_train=train_set[\"pop\"]\n",
        "pop_test=test_set[\"pop\"]\n",
        "pop = np.concatenate((pop_train,pop_test), axis=0)\n",
        "\n",
        "# dropping the columns not required from train dataset\n",
        "train_set = train_set.drop([\"pop\"], axis=1)\n",
        "test_set = test_set.drop([\"pop\"], axis=1)"
      ]
    },
    {
      "cell_type": "code",
      "execution_count": 317,
      "metadata": {
        "execution": {
          "iopub.execute_input": "2023-02-19T01:26:28.267453Z",
          "iopub.status.busy": "2023-02-19T01:26:28.267019Z",
          "iopub.status.idle": "2023-02-19T01:26:28.280657Z",
          "shell.execute_reply": "2023-02-19T01:26:28.279558Z",
          "shell.execute_reply.started": "2023-02-19T01:26:28.267419Z"
        },
        "id": "aopM3mkvtf4c"
      },
      "outputs": [],
      "source": [
        "# Split the set without missing values into training and test sets\n",
        "x_train = train_set.drop(\"top genre\",axis=1)\n",
        "y_train = train_set[\"top genre\"]\n",
        "x_test = test_set.drop(\"top genre\",axis=1)\n",
        "y_test = test_set[\"top genre\"]"
      ]
    },
    {
      "cell_type": "code",
      "execution_count": 318,
      "metadata": {
        "execution": {
          "iopub.execute_input": "2023-02-19T01:26:28.282756Z",
          "iopub.status.busy": "2023-02-19T01:26:28.282102Z",
          "iopub.status.idle": "2023-02-19T01:26:28.287897Z",
          "shell.execute_reply": "2023-02-19T01:26:28.286881Z",
          "shell.execute_reply.started": "2023-02-19T01:26:28.282722Z"
        },
        "id": "ILg0a4ijtf4c"
      },
      "outputs": [],
      "source": [
        "#copy of the x_train dataset\n",
        "train_dataset = x_train.copy()"
      ]
    },
    {
      "cell_type": "code",
      "execution_count": 319,
      "metadata": {
        "execution": {
          "iopub.execute_input": "2023-02-19T01:26:28.293091Z",
          "iopub.status.busy": "2023-02-19T01:26:28.292361Z",
          "iopub.status.idle": "2023-02-19T01:26:28.307244Z",
          "shell.execute_reply": "2023-02-19T01:26:28.305846Z",
          "shell.execute_reply.started": "2023-02-19T01:26:28.293019Z"
        },
        "colab": {
          "base_uri": "https://localhost:8080/"
        },
        "id": "YLbSiAxItf4c",
        "outputId": "ee3f026c-2dce-493d-cc1f-4de06cd4e70d"
      },
      "outputs": [
        {
          "output_type": "stream",
          "name": "stdout",
          "text": [
            "bpm          False\n",
            "nrgy         False\n",
            "dnce         False\n",
            "dB           False\n",
            "live         False\n",
            "             ...  \n",
            "year_2015    False\n",
            "year_2016    False\n",
            "year_2017    False\n",
            "year_2018    False\n",
            "year_2019    False\n",
            "Length: 1046, dtype: bool\n",
            "False\n"
          ]
        }
      ],
      "source": [
        "#checking for null values in x_train and y_train\n",
        "if verbose:\n",
        "    print(x_train.isnull().any())\n",
        "    print(y_train.isnull().any())"
      ]
    },
    {
      "cell_type": "code",
      "execution_count": 320,
      "metadata": {
        "execution": {
          "iopub.execute_input": "2023-02-19T01:26:28.309248Z",
          "iopub.status.busy": "2023-02-19T01:26:28.308892Z",
          "iopub.status.idle": "2023-02-19T01:26:28.322687Z",
          "shell.execute_reply": "2023-02-19T01:26:28.321364Z",
          "shell.execute_reply.started": "2023-02-19T01:26:28.309220Z"
        },
        "colab": {
          "base_uri": "https://localhost:8080/"
        },
        "id": "P6f4OgHetf4c",
        "outputId": "1e0b105e-2d1c-4cf8-a196-e6d7167f17d5"
      },
      "outputs": [
        {
          "output_type": "stream",
          "name": "stdout",
          "text": [
            "bpm          False\n",
            "nrgy         False\n",
            "dnce         False\n",
            "dB           False\n",
            "live         False\n",
            "             ...  \n",
            "year_2015    False\n",
            "year_2016    False\n",
            "year_2017    False\n",
            "year_2018    False\n",
            "year_2019    False\n",
            "Length: 1046, dtype: bool\n",
            "True\n"
          ]
        }
      ],
      "source": [
        "#checking for null values in x_test and y_test\n",
        "if verbose:\n",
        "    print(x_test.isnull().any())\n",
        "    print(y_test.isnull().any())"
      ]
    },
    {
      "cell_type": "markdown",
      "metadata": {
        "id": "VxpL6iV8tf4d"
      },
      "source": [
        "### Replace missing genre values with LR predicted genres\n",
        "We used Logistic Regression to replace missing top genre values instead of KNN or dropping those rows. This was the most accurate method and it preserved the useful information contained in those rows."
      ]
    },
    {
      "cell_type": "code",
      "execution_count": 321,
      "metadata": {
        "execution": {
          "iopub.execute_input": "2023-02-19T01:26:28.378986Z",
          "iopub.status.busy": "2023-02-19T01:26:28.378628Z",
          "iopub.status.idle": "2023-02-19T01:26:28.388534Z",
          "shell.execute_reply": "2023-02-19T01:26:28.387318Z",
          "shell.execute_reply.started": "2023-02-19T01:26:28.378956Z"
        },
        "id": "xY7s56aPtf4d"
      },
      "outputs": [],
      "source": [
        "#feature scaling of the training data\n",
        "from sklearn.preprocessing import StandardScaler\n",
        "\n",
        "x_train=x_train.values\n",
        "x_test=x_test.values\n",
        "# Scale the input data\n",
        "scaler = StandardScaler()\n",
        "x_train[:,:9] = scaler.fit_transform(x_train[:,:9])\n",
        "x_test[:,:9] = scaler.transform(x_test[:,:9])"
      ]
    },
    {
      "cell_type": "code",
      "execution_count": 322,
      "metadata": {
        "execution": {
          "iopub.execute_input": "2023-02-19T01:26:28.391005Z",
          "iopub.status.busy": "2023-02-19T01:26:28.390291Z",
          "iopub.status.idle": "2023-02-19T01:26:33.138372Z",
          "shell.execute_reply": "2023-02-19T01:26:33.136518Z",
          "shell.execute_reply.started": "2023-02-19T01:26:28.390970Z"
        },
        "id": "BlOjrYB-tf4d"
      },
      "outputs": [],
      "source": [
        "from sklearn.linear_model import LogisticRegression\n",
        "from sklearn.metrics import accuracy_score\n",
        "from sklearn.model_selection import GridSearchCV\n",
        "\n",
        "# Define the hyperparameters and search space\n",
        "params = {\"C\": [100], \"penalty\": [\"l1\"], \"solver\": [\"liblinear\"],\"max_iter\": [1000]}\n",
        "\n",
        "# Create the logistic regression model\n",
        "lr = LogisticRegression()\n",
        "\n",
        "# Perform a grid search with 5-fold cross-validation\n",
        "grid_search = GridSearchCV(estimator=lr, param_grid=params, cv=5)\n",
        "grid_search.fit(x_train, y_train)\n",
        "\n",
        "# Make predictions on the testing dataset\n",
        "y_test = grid_search.predict(x_test)"
      ]
    },
    {
      "cell_type": "code",
      "execution_count": 323,
      "metadata": {
        "execution": {
          "iopub.execute_input": "2023-02-19T01:26:33.142060Z",
          "iopub.status.busy": "2023-02-19T01:26:33.140963Z",
          "iopub.status.idle": "2023-02-19T01:26:33.151925Z",
          "shell.execute_reply": "2023-02-19T01:26:33.150429Z",
          "shell.execute_reply.started": "2023-02-19T01:26:33.141983Z"
        },
        "id": "37ErzoJctf4d"
      },
      "outputs": [],
      "source": [
        "#printing the predicted values of y_test"
      ]
    },
    {
      "cell_type": "code",
      "execution_count": 324,
      "metadata": {
        "execution": {
          "iopub.execute_input": "2023-02-19T01:26:33.155191Z",
          "iopub.status.busy": "2023-02-19T01:26:33.154232Z",
          "iopub.status.idle": "2023-02-19T01:26:33.169619Z",
          "shell.execute_reply": "2023-02-19T01:26:33.167851Z",
          "shell.execute_reply.started": "2023-02-19T01:26:33.155132Z"
        },
        "id": "xchfntjQtf4d"
      },
      "outputs": [],
      "source": [
        "# Concatenate x_train and x_test along axis 0\n",
        "x = np.concatenate((x_train, x_test), axis=0)\n",
        "# Concatenate y_train and y_test along axis 0\n",
        "y = np.concatenate((y_train, y_test), axis=0)"
      ]
    },
    {
      "cell_type": "code",
      "execution_count": 325,
      "metadata": {
        "execution": {
          "iopub.execute_input": "2023-02-19T01:26:33.175251Z",
          "iopub.status.busy": "2023-02-19T01:26:33.172816Z",
          "iopub.status.idle": "2023-02-19T01:26:33.196221Z",
          "shell.execute_reply": "2023-02-19T01:26:33.194606Z",
          "shell.execute_reply.started": "2023-02-19T01:26:33.175188Z"
        },
        "id": "Le6bC4a4tf4d"
      },
      "outputs": [],
      "source": [
        "# Convert x_train and y_train to data frames\n",
        "x = pd.DataFrame(x)\n",
        "y = pd.DataFrame(y)\n",
        "\n",
        "\n",
        "#assigning the same column name to the train datasets\n",
        "y = y.reset_index(drop=True)\n",
        "y.columns = genre_dataset.columns\n",
        "\n",
        "x = x.reset_index(drop=True)\n",
        "x.columns= train_dataset.columns\n",
        "\n",
        "# Merge x_train and y_train along axis 1 (i.e., horizontally)\n",
        "dataset = pd.concat([x ,y], axis=1)"
      ]
    },
    {
      "cell_type": "code",
      "execution_count": 326,
      "metadata": {
        "execution": {
          "iopub.execute_input": "2023-02-19T01:26:33.208873Z",
          "iopub.status.busy": "2023-02-19T01:26:33.204135Z",
          "iopub.status.idle": "2023-02-19T01:26:33.259358Z",
          "shell.execute_reply": "2023-02-19T01:26:33.258116Z",
          "shell.execute_reply.started": "2023-02-19T01:26:33.208794Z"
        },
        "id": "s7RhhO4itf4d"
      },
      "outputs": [],
      "source": [
        "# #adding the pop column back into the train dataset\n",
        "dataset['pop'] = pop\n",
        "#copy of the x_train dataset\n",
        "train_dataset = dataset.copy()\n",
        "#concating the train and test dataset\n",
        "concatenated_dataset = pd.concat([dataset, test_dataset])\n",
        "#give the same column name as the original dataset \n",
        "concatenated_dataset = concatenated_dataset.reset_index(drop=True)\n",
        "concatenated_dataset.columns= train_dataset.columns\n",
        "#concatenated_dataset\n",
        "#dividing the dataset into dependable and independent variables\n",
        "x_con_data=concatenated_dataset.iloc[:,:-1]\n",
        "y_con_data=concatenated_dataset.iloc[:,-1]"
      ]
    },
    {
      "cell_type": "markdown",
      "metadata": {
        "id": "RrDBUUcbtf4d"
      },
      "source": [
        "### One-hot encoding"
      ]
    },
    {
      "cell_type": "code",
      "execution_count": 327,
      "metadata": {
        "execution": {
          "iopub.execute_input": "2023-02-19T01:26:33.261409Z",
          "iopub.status.busy": "2023-02-19T01:26:33.260668Z",
          "iopub.status.idle": "2023-02-19T01:26:33.274832Z",
          "shell.execute_reply": "2023-02-19T01:26:33.273357Z",
          "shell.execute_reply.started": "2023-02-19T01:26:33.261355Z"
        },
        "id": "Ixe3YQWytf4d"
      },
      "outputs": [],
      "source": [
        "# select the categorical variables\n",
        "categorical_variables = ['top genre']\n",
        "\n",
        "# perform one hot encoding\n",
        "x_con_data = pd.get_dummies(x_con_data, columns=categorical_variables)"
      ]
    },
    {
      "cell_type": "code",
      "execution_count": 328,
      "metadata": {
        "execution": {
          "iopub.execute_input": "2023-02-19T01:26:33.282621Z",
          "iopub.status.busy": "2023-02-19T01:26:33.280066Z",
          "iopub.status.idle": "2023-02-19T01:26:33.291992Z",
          "shell.execute_reply": "2023-02-19T01:26:33.290638Z",
          "shell.execute_reply.started": "2023-02-19T01:26:33.282571Z"
        },
        "colab": {
          "base_uri": "https://localhost:8080/"
        },
        "id": "InfPnAWBtf4d",
        "outputId": "d922392e-2caa-4f92-921c-88cc3358d3c8"
      },
      "outputs": [
        {
          "output_type": "stream",
          "name": "stdout",
          "text": [
            "Training dataset size: (453, 1145)\n",
            "Testing dataset size: (114, 1145)\n"
          ]
        }
      ],
      "source": [
        "#adding the top genre in the one hot encoded dataset\n",
        "x_con_data['pop'] = y_con_data\n",
        "#assigning the data to the variable concatenated data\n",
        "concatenated_dataset = x_con_data\n",
        "\n",
        "# Manually specify the row index to split the dataset\n",
        "split_index = 453\n",
        "\n",
        "# Split the dataset into two parts\n",
        "dataset = concatenated_dataset.iloc[:split_index]\n",
        "test_dataset = concatenated_dataset.iloc[split_index:]\n",
        "\n",
        "# Print the size of the training and testing datasets\n",
        "print(f\"Training dataset size: {np.shape(dataset)}\")\n",
        "print(f\"Testing dataset size: {np.shape(test_dataset)}\")"
      ]
    },
    {
      "cell_type": "markdown",
      "metadata": {
        "id": "hFoPENSqtf4d"
      },
      "source": [
        "### Check for duplicates\n",
        "One found and deleted."
      ]
    },
    {
      "cell_type": "code",
      "execution_count": 329,
      "metadata": {
        "execution": {
          "iopub.execute_input": "2023-02-19T01:26:33.399570Z",
          "iopub.status.busy": "2023-02-19T01:26:33.399238Z",
          "iopub.status.idle": "2023-02-19T01:26:33.645933Z",
          "shell.execute_reply": "2023-02-19T01:26:33.644876Z",
          "shell.execute_reply.started": "2023-02-19T01:26:33.399543Z"
        },
        "colab": {
          "base_uri": "https://localhost:8080/"
        },
        "id": "YN857725tf4e",
        "outputId": "f9067a62-3357-4e58-db4e-6686e96ce589"
      },
      "outputs": [
        {
          "output_type": "stream",
          "name": "stdout",
          "text": [
            "Number of duplicates: 1\n"
          ]
        }
      ],
      "source": [
        "# Check for duplicates\n",
        "duplicates = dataset.duplicated().sum()\n",
        "print(f\"Number of duplicates: {duplicates}\")\n",
        "dataset = dataset.drop_duplicates()"
      ]
    },
    {
      "cell_type": "markdown",
      "metadata": {
        "id": "IGZdyNhJtf4e"
      },
      "source": [
        "### Delete rows with outliers"
      ]
    },
    {
      "cell_type": "code",
      "execution_count": 330,
      "metadata": {
        "execution": {
          "iopub.execute_input": "2023-02-19T01:26:33.648399Z",
          "iopub.status.busy": "2023-02-19T01:26:33.647659Z",
          "iopub.status.idle": "2023-02-19T01:26:33.682430Z",
          "shell.execute_reply": "2023-02-19T01:26:33.681328Z",
          "shell.execute_reply.started": "2023-02-19T01:26:33.648354Z"
        },
        "colab": {
          "base_uri": "https://localhost:8080/"
        },
        "id": "kGMUmgPWtf4e",
        "outputId": "d046948f-5f78-449c-e018-50000af6f291"
      },
      "outputs": [
        {
          "output_type": "stream",
          "name": "stdout",
          "text": [
            "Original number of rows: 452\n",
            "Number of rows after handling outliers: 409\n"
          ]
        }
      ],
      "source": [
        "# Define function to handle outliers using z-score method\n",
        "def handle_outliers_z_score(df, threshold=3):\n",
        "    z_scores = np.abs((df - df.mean()) / df.std())\n",
        "    df_out = df[(z_scores < threshold).all(axis=1)]\n",
        "    return df_out\n",
        "\n",
        "\n",
        "\n",
        "# Apply function to relevant columns\n",
        "outliers_dataset = dataset.copy()\n",
        "columns = ['bpm', 'nrgy', 'dnce', 'dB', 'live', 'val', 'dur', 'acous', 'spch']\n",
        "df_outliers_removed = handle_outliers_z_score(outliers_dataset[columns])\n",
        "dataset = pd.concat([df_outliers_removed, dataset.drop(columns, axis=1) ], axis=1)\n",
        "dataset = dataset.dropna()\n",
        "\n",
        "# Print number of rows before and after handling outliers\n",
        "print(f\"Original number of rows: {len(outliers_dataset)}\")\n",
        "print(f\"Number of rows after handling outliers: {len(dataset)}\")"
      ]
    },
    {
      "cell_type": "code",
      "execution_count": 331,
      "metadata": {
        "execution": {
          "iopub.execute_input": "2023-02-19T01:26:33.720543Z",
          "iopub.status.busy": "2023-02-19T01:26:33.720149Z",
          "iopub.status.idle": "2023-02-19T01:26:33.728090Z",
          "shell.execute_reply": "2023-02-19T01:26:33.727125Z",
          "shell.execute_reply.started": "2023-02-19T01:26:33.720508Z"
        },
        "id": "mvfFsAdEtf4e"
      },
      "outputs": [],
      "source": [
        "#dividing the dataset into dependable and independent variables\n",
        "X_train=dataset.iloc[:,:-1].values\n",
        "Y_train=dataset.iloc[:,-1].values"
      ]
    },
    {
      "cell_type": "markdown",
      "metadata": {
        "id": "CFJQAN-Ctf4e"
      },
      "source": [
        "# Train the models\n",
        "\n",
        "In this section we trained the Linear Regression (LR), Support Vector Regression (SVR), and Random Forest Regressor (RFR) machine learning models on the training data. Support vector machines are well suited to small and medium sized complex data datasets. Random Forests and XGBoost known for excellent performance and we would try XGBoost in the future. Nonetheless, the quantity and quality (i.e. before and after pre-processing) of the dataset had a larger impact on performance than choice of model.\n",
        "\n",
        "We used GridSearchCV to find the best hyperparameters and perform cross validation to identify the best model. We selected the best model based on root mean squared error (RMSE) on validation data. The three models delivered similar results, although the RFR model was relatively slow due to running many decision trees.  \n",
        "\n",
        "Linear Regression (LR) was chosen as a benchmark and based on the idea that one should try a simple model first. Indeed, simple models are fast and often perform surprisngly well on tabluar data. It's training RMSE was virtually zero and yet it's best validation RMSE was about 11.057 and not signicantly different from SVR and RFR.  \n",
        "\n",
        "\n",
        "SVR is a more complex model and we hoped that it would deliver a low RMSE. While SVR gets the best validation at the moment, the RMSE diffrence is small. The plot below shows that the validation RMSE is almost flat, i.e. decreasing regularization had little impact on RMSE.  The train RMSE mainatined a strong downward trajectory as C increased (and regularization decreased), a sign of overfitting.\n",
        "\n",
        "RFR uses many decision tree estimators (can be hundreds) to predict real values. This model relies on the wisdom of crowds concept where many weak estimators combine to make accurate predictions. The number of estimators can be optimized, but we expected that ***max_depth*** would be the most imporatnt hyperparameter.  However, parameter tuning did not have a signicant impact on validation RMSE.\n",
        "\n",
        "Please note: The RFR model in this notebook is currently giving high RMSE scores. The cause is unknown, but we were definitely getting validation a RMSE of ~7.5.\n",
        "\n",
        "The train and validation plots for SVR are strikingly similar and their validation RMSE's are flat. It seems that our one-hot code dataset is not well suited to this regression task.  In contrast, we found that one-hot encoding greatly improved classification accuracy (in our other jupyter notebook).\n",
        "\n",
        "Validation and selection were done prior running the model on the unseen test data for submission to Kaggle. While no Kaggle test data was used for training there was a risk that some test data information \"leaked\" into the training data because each Kaggle score could be used as feedback and influence model training decisions.\n",
        "\n",
        "### Summary of final results\n",
        "Utimately, our top scoring model on Kaggle was a RandomForest Regressor, with a RMSE of 7.44924.  Group name: Straw-hat Pirates, position 25 on the Kaggle leaderboard.\n",
        "\n",
        "#### LR_model = LinearRegression(fit_intercept=True)\n",
        "#### SVR_model = SVR(C=12, degree=2, kernel='rbf')\n",
        "#### RF_model = RandomForestRegressor(n_estimators=300, max_depth=5)\n",
        "\n",
        "Typical and reprodicible results are shown in this table and the plots below.\n",
        "\n",
        "| Model | Train RMSE | Validation RMSE |\n",
        "| --- | --- | --- |\n",
        "| Linear Regression | ~0    | 11.057 |\n",
        "| Support Vector Regression | 5.367 |  10.99 |\n",
        "| Random Forest Regressor   | 7.137 |  11.280 |"
      ]
    },
    {
      "cell_type": "markdown",
      "metadata": {
        "id": "1v0ODI5ytf4e"
      },
      "source": [
        "## Linear Regression"
      ]
    },
    {
      "cell_type": "code",
      "execution_count": 332,
      "metadata": {
        "execution": {
          "iopub.execute_input": "2023-02-19T01:26:33.730198Z",
          "iopub.status.busy": "2023-02-19T01:26:33.729578Z",
          "iopub.status.idle": "2023-02-19T01:26:34.274793Z",
          "shell.execute_reply": "2023-02-19T01:26:34.273153Z",
          "shell.execute_reply.started": "2023-02-19T01:26:33.730164Z"
        },
        "colab": {
          "base_uri": "https://localhost:8080/"
        },
        "id": "sLhx8-fHtf4e",
        "outputId": "ddd354eb-71ed-41d6-95f1-a589e040daee"
      },
      "outputs": [
        {
          "output_type": "stream",
          "name": "stdout",
          "text": [
            "{'fit_intercept': True}\n",
            "RMSE weighted train score=[6.4753585e-14]\n",
            "RMSE weighted validation score=[11.55415994]\n",
            "best validation score=11.554159935540143\n"
          ]
        }
      ],
      "source": [
        "from sklearn.linear_model import LinearRegression\n",
        "from sklearn.metrics import mean_squared_error\n",
        "from sklearn.preprocessing import StandardScaler\n",
        "\n",
        "# Create a linear regression model\n",
        "model = LinearRegression()  # no random_state to set!\n",
        "\n",
        "# Define the hyperparameters to tune and their values to test\n",
        "param_grid = {'fit_intercept': [True]}\n",
        "\n",
        "# Create a GridSearchCV object and fit it to the training data\n",
        "grid_search = GridSearchCV(model, param_grid, scoring='neg_mean_squared_error', cv=5, return_train_score=True)\n",
        "grid_search.fit(X_train, Y_train)\n",
        "\n",
        "best_params = grid_search.best_params_\n",
        "print(best_params)\n",
        "best_score = grid_search.best_score_\n",
        "\n",
        "rmse_train = np.sqrt(-1*grid_search.cv_results_['mean_train_score'])\n",
        "rmse_val = np.sqrt(-1* grid_search.cv_results_['mean_test_score'])\n",
        "\n",
        "print(\"RMSE weighted train score={}\".format(rmse_train))\n",
        "print(\"RMSE weighted validation score={}\".format(rmse_val))\n",
        "print(\"best validation score={}\".format(np.sqrt(-1*best_score)))"
      ]
    },
    {
      "cell_type": "code",
      "execution_count": 333,
      "metadata": {
        "colab": {
          "base_uri": "https://localhost:8080/"
        },
        "id": "aBYxpY58tf4e",
        "outputId": "2b9750d6-a9d2-4ff2-b876-2c197402b934"
      },
      "outputs": [
        {
          "output_type": "execute_result",
          "data": {
            "text/plain": [
              "LinearRegression()"
            ]
          },
          "metadata": {},
          "execution_count": 333
        }
      ],
      "source": [
        "# train on all training data, to run model on real test data\n",
        "LR_model = LinearRegression(fit_intercept=True)\n",
        "LR_model.fit(X_train, Y_train)"
      ]
    },
    {
      "cell_type": "markdown",
      "metadata": {
        "id": "bCl1UMNVtf4e"
      },
      "source": [
        "# Support Vector Regression (SVR)"
      ]
    },
    {
      "cell_type": "code",
      "execution_count": 334,
      "metadata": {
        "execution": {
          "iopub.execute_input": "2023-02-19T01:26:36.235806Z",
          "iopub.status.busy": "2023-02-19T01:26:36.235324Z",
          "iopub.status.idle": "2023-02-19T01:26:37.539065Z",
          "shell.execute_reply": "2023-02-19T01:26:37.537768Z",
          "shell.execute_reply.started": "2023-02-19T01:26:36.235774Z"
        },
        "colab": {
          "base_uri": "https://localhost:8080/"
        },
        "id": "WnkgbbnOtf4e",
        "outputId": "6194320e-2192-4d6a-ab4a-62beb949fd23"
      },
      "outputs": [
        {
          "output_type": "stream",
          "name": "stdout",
          "text": [
            "best params {'C': 12, 'degree': 2, 'kernel': 'rbf'}\n",
            "RMSE weighted train score=[11.87837139 10.90055748 10.09059154  9.41079215  8.81310333  8.26968766\n",
            "  7.77063971  7.30875856  6.87580136  6.46776874  6.08030191  5.71291569]\n",
            "RMSE weighted validation score=[12.6024522  12.19543216 11.96666799 11.81665527 11.70631216 11.63148103\n",
            " 11.56954948 11.52050268 11.48362395 11.45831952 11.43918918 11.42384359]\n",
            "best validation score=11.423843588132994\n"
          ]
        }
      ],
      "source": [
        "from sklearn.svm import SVR\n",
        "# Create an SVR model\n",
        "svr_model = SVR( ) # no random state\n",
        "# Define the hyperparameter grid to search over\n",
        "param_grid = {'C': [1,2,3,4,5,6,7,8,9,10,11,12],'kernel': ['rbf'],\n",
        "              'degree': [2]}\n",
        "\n",
        "# Create a GridSearchCV object with the SVR model and hyperparameter grid\n",
        "grid = GridSearchCV(svr_model, param_grid, scoring='neg_mean_squared_error',\\\n",
        "                    cv=5, return_train_score=True)\n",
        "# Fit the GridSearchCV object to the training data\n",
        "grid.fit(X_train, Y_train)\n",
        "# Get the best hyperparameters\n",
        "best_params = grid.best_params_\n",
        "print(\"best params\", best_params)\n",
        "best_score = np.sqrt(-1 *grid.best_score_)\n",
        "\n",
        "rmse_train= np.sqrt(-1 * grid.cv_results_['mean_train_score'])\n",
        "rmse_val  = np.sqrt(-1 * grid.cv_results_['mean_test_score'])\n",
        "\n",
        "print(\"RMSE weighted train score={}\".format(rmse_train))\n",
        "print(\"RMSE weighted validation score={}\".format(rmse_val))\n",
        "print(\"best validation score={}\".format(best_score))"
      ]
    },
    {
      "cell_type": "code",
      "execution_count": 335,
      "metadata": {
        "colab": {
          "base_uri": "https://localhost:8080/",
          "height": 241
        },
        "id": "ChnGZp4Mtf4f",
        "outputId": "400d8380-a125-4a06-cff8-cb749d259a58"
      },
      "outputs": [
        {
          "output_type": "display_data",
          "data": {
            "text/plain": [
              "<Figure size 432x216 with 1 Axes>"
            ],
            "image/png": "[encoded data removed]"
          },
          "metadata": {
            "needs_background": "light"
          }
        }
      ],
      "source": [
        "plt.figure(figsize=(6,3))\n",
        "plt.plot(rmse_train, label=\"train\")\n",
        "plt.plot(rmse_val, label=\"validation\")\n",
        "plt.title(\"Support Vector Regressor\")\n",
        "plt.ylabel(\"RMSE\")\n",
        "plt.xlabel(\"C\")\n",
        "plt.legend();"
      ]
    },
    {
      "cell_type": "code",
      "execution_count": 336,
      "metadata": {
        "execution": {
          "iopub.execute_input": "2023-02-19T01:26:37.541124Z",
          "iopub.status.busy": "2023-02-19T01:26:37.540696Z",
          "iopub.status.idle": "2023-02-19T01:26:37.547457Z",
          "shell.execute_reply": "2023-02-19T01:26:37.546601Z",
          "shell.execute_reply.started": "2023-02-19T01:26:37.541090Z"
        },
        "colab": {
          "base_uri": "https://localhost:8080/"
        },
        "id": "4nYbfJy7tf4f",
        "outputId": "d756a83e-12de-428c-e17f-eeb1192a4af6"
      },
      "outputs": [
        {
          "output_type": "execute_result",
          "data": {
            "text/plain": [
              "SVR(C=12, degree=2)"
            ]
          },
          "metadata": {},
          "execution_count": 336
        }
      ],
      "source": [
        "# train on ful training set to run on Kaggle test data\n",
        "SVR_model = SVR(C=best_params['C'], kernel=best_params['kernel'], \\\n",
        "                degree=best_params['degree'])\n",
        "SVR_model.fit(X_train, Y_train)"
      ]
    },
    {
      "cell_type": "code",
      "execution_count": 337,
      "metadata": {
        "execution": {
          "iopub.execute_input": "2023-02-19T01:26:37.549445Z",
          "iopub.status.busy": "2023-02-19T01:26:37.548805Z",
          "iopub.status.idle": "2023-02-19T01:26:37.560783Z",
          "shell.execute_reply": "2023-02-19T01:26:37.559942Z",
          "shell.execute_reply.started": "2023-02-19T01:26:37.549396Z"
        },
        "colab": {
          "base_uri": "https://localhost:8080/"
        },
        "id": "lkW_6NTytf4f",
        "outputId": "51138e76-fb98-40cb-ede1-372dbbd892cb"
      },
      "outputs": [
        {
          "output_type": "execute_result",
          "data": {
            "text/plain": [
              "(438,)"
            ]
          },
          "metadata": {},
          "execution_count": 337
        }
      ],
      "source": [
        "y_train.shape"
      ]
    },
    {
      "cell_type": "markdown",
      "metadata": {
        "id": "cMG1wTyStf4f"
      },
      "source": [
        "## Random Forest Regressor"
      ]
    },
    {
      "cell_type": "code",
      "execution_count": 338,
      "metadata": {
        "scrolled": true,
        "colab": {
          "base_uri": "https://localhost:8080/"
        },
        "id": "IkFEMOLYtf4f",
        "outputId": "9075f55c-080c-4656-bc8f-5331ea50aec5"
      },
      "outputs": [
        {
          "output_type": "stream",
          "name": "stdout",
          "text": [
            "best params {'max_depth': 5, 'n_estimators': 300}\n",
            "RMSE weighted train scores=[11.75985694 11.0681985  10.47679737  9.91873642  9.41474144  8.98105365\n",
            "  8.60868819  8.28135996  7.99785315  7.74038419  7.5112779 ]\n",
            "RMSE weighted validation scores=[11.98609393 11.84200445 11.79837368 11.74745491 11.73851127 11.76375437\n",
            " 11.77806061 11.79518912 11.78935947 11.80932185 11.82461486]\n"
          ]
        }
      ],
      "source": [
        "# train on all training data, to run model on real test data\n",
        "from sklearn.ensemble import RandomForestRegressor\n",
        "\n",
        "C_vec=np.arange(1,11,1)\n",
        "\n",
        "rf_model = RandomForestRegressor(random_state=42)\n",
        "# Define the hyperparameter grid to search over\n",
        "param_grid = { \n",
        "    'n_estimators': [300],\n",
        "    'max_depth' : [1,2,3,4,5,6,7,8,9,10,11]\n",
        "}\n",
        "\n",
        "# Create a GridSearchCV object with the SVR model and hyperparameter grid\n",
        "grid = GridSearchCV(rf_model, param_grid, scoring='neg_mean_squared_error',\\\n",
        "                    cv=5, return_train_score=True)\n",
        "# Fit the GridSearchCV object to the training data\n",
        "grid.fit(X_train, Y_train)\n",
        "# Get the best hyperparameters\n",
        "best_params = grid.best_params_\n",
        "print(\"best params\", best_params)\n",
        "\n",
        "rmse_train= np.sqrt(-1 * grid.cv_results_['mean_train_score'])\n",
        "rmse_val  = np.sqrt(-1 * grid.cv_results_['mean_test_score'])\n",
        "\n",
        "print(\"RMSE weighted train scores={}\".format(rmse_train))\n",
        "print(\"RMSE weighted validation scores={}\".format(rmse_val))"
      ]
    },
    {
      "cell_type": "code",
      "execution_count": 339,
      "metadata": {
        "colab": {
          "base_uri": "https://localhost:8080/",
          "height": 241
        },
        "id": "Bi2QqF_Gtf4f",
        "outputId": "872063c4-be35-4613-9864-95b9347895db"
      },
      "outputs": [
        {
          "output_type": "display_data",
          "data": {
            "text/plain": [
              "<Figure size 432x216 with 1 Axes>"
            ],
            "image/png": "[encoded data removed]"
          },
          "metadata": {
            "needs_background": "light"
          }
        }
      ],
      "source": [
        "plt.figure(figsize=(6,3))\n",
        "plt.plot(rmse_train, label=\"train\")\n",
        "plt.plot(rmse_val, label=\"validation\")\n",
        "plt.title(\"Random Forest Regressor\")\n",
        "plt.ylabel(\"RMSE\")\n",
        "plt.xlabel(\"max depth\")\n",
        "plt.legend();"
      ]
    },
    {
      "cell_type": "code",
      "execution_count": 340,
      "metadata": {
        "colab": {
          "base_uri": "https://localhost:8080/"
        },
        "id": "iU8DYXBstf4f",
        "outputId": "6179ec44-c11e-4815-fde5-728355e326b1"
      },
      "outputs": [
        {
          "output_type": "execute_result",
          "data": {
            "text/plain": [
              "RandomForestRegressor(max_depth=5, n_estimators=300, random_state=42)"
            ]
          },
          "metadata": {},
          "execution_count": 340
        }
      ],
      "source": [
        "# train on all training data, to run model on real test data\n",
        "RF_model = RandomForestRegressor(max_depth=best_params['max_depth'],\\\n",
        "                                 n_estimators=best_params['n_estimators'], random_state=42)\n",
        "RF_model.fit(X_train, Y_train)  "
      ]
    },
    {
      "cell_type": "markdown",
      "metadata": {
        "id": "ln2w3DQKtf4f"
      },
      "source": [
        "# Test Data Prediction"
      ]
    },
    {
      "cell_type": "code",
      "execution_count": 341,
      "metadata": {
        "execution": {
          "iopub.execute_input": "2023-02-19T01:26:37.562763Z",
          "iopub.status.busy": "2023-02-19T01:26:37.562146Z",
          "iopub.status.idle": "2023-02-19T01:26:37.574126Z",
          "shell.execute_reply": "2023-02-19T01:26:37.573019Z",
          "shell.execute_reply.started": "2023-02-19T01:26:37.562729Z"
        },
        "id": "x0aWQsrbtf4f"
      },
      "outputs": [],
      "source": [
        "test_dataset = test_dataset.drop([\"pop\"], axis=1)"
      ]
    },
    {
      "cell_type": "code",
      "execution_count": 342,
      "metadata": {
        "execution": {
          "iopub.execute_input": "2023-02-19T01:26:37.576306Z",
          "iopub.status.busy": "2023-02-19T01:26:37.575706Z",
          "iopub.status.idle": "2023-02-19T01:26:37.586187Z",
          "shell.execute_reply": "2023-02-19T01:26:37.585337Z",
          "shell.execute_reply.started": "2023-02-19T01:26:37.576256Z"
        },
        "id": "xw2RaLWatf4f"
      },
      "outputs": [],
      "source": [
        "#feature scaling on test dataset\n",
        "test_dataset_arr=test_dataset.values\n",
        "test_dataset_arr[:,:9]=scaler.transform(test_dataset_arr[:,:9]) "
      ]
    },
    {
      "cell_type": "code",
      "execution_count": 343,
      "metadata": {
        "execution": {
          "iopub.execute_input": "2023-02-19T01:26:37.587941Z",
          "iopub.status.busy": "2023-02-19T01:26:37.587429Z",
          "iopub.status.idle": "2023-02-19T01:26:37.611782Z",
          "shell.execute_reply": "2023-02-19T01:26:37.610580Z",
          "shell.execute_reply.started": "2023-02-19T01:26:37.587911Z"
        },
        "id": "Tl6hQAMjtf4g"
      },
      "outputs": [],
      "source": [
        "linear_regression=False\n",
        "svm_regression=False\n",
        "rf_regression=True\n",
        "\n",
        "Y_test_val=False\n",
        "\n",
        "if linear_regression:\n",
        "    Y_test = LR_model.predict(test_dataset_arr)\n",
        "    file_name=\"y_pred_LR.csv\"\n",
        "    Y_test_val=True\n",
        "if svm_regression:\n",
        "    Y_test = SVR_model.predict(test_dataset_arr)\n",
        "    file_name=\"y_pred_SVR.csv\"\n",
        "    Y_test_val=True\n",
        "if rf_regression:   \n",
        "    Y_test = RF_model.predict(test_dataset_arr)\n",
        "    file_name=\"y_pred_RF.csv\"\n",
        "    Y_test_val=True"
      ]
    },
    {
      "cell_type": "code",
      "execution_count": 344,
      "metadata": {
        "execution": {
          "iopub.execute_input": "2023-02-19T01:40:18.118810Z",
          "iopub.status.busy": "2023-02-19T01:40:18.118366Z",
          "iopub.status.idle": "2023-02-19T01:40:18.125853Z",
          "shell.execute_reply": "2023-02-19T01:40:18.124601Z",
          "shell.execute_reply.started": "2023-02-19T01:40:18.118775Z"
        },
        "id": "1GRh6rpltf4g"
      },
      "outputs": [],
      "source": [
        "# save predictions to csv file for uploading to kaggle\n",
        "def save_y_pred(X_TEST_Id, y_pred_test, file_name):\n",
        "  with open(file_name, 'w') as f:\n",
        "    f.write(\"Id,\" + \"pop\\n\")\n",
        "    for ii in range(len(y_pred_test)):\n",
        "      f.write(str(X_TEST_Id[ii]) + \",\")\n",
        "      f.write(str(y_pred_test[ii])+\"\\n\")"
      ]
    },
    {
      "cell_type": "code",
      "execution_count": 346,
      "metadata": {
        "execution": {
          "iopub.execute_input": "2023-02-19T01:43:41.703783Z",
          "iopub.status.busy": "2023-02-19T01:43:41.703349Z",
          "iopub.status.idle": "2023-02-19T01:43:41.712400Z",
          "shell.execute_reply": "2023-02-19T01:43:41.711140Z",
          "shell.execute_reply.started": "2023-02-19T01:43:41.703752Z"
        },
        "id": "Kjq_VuB-tf4g"
      },
      "outputs": [],
      "source": [
        "if Y_test_val:\n",
        "    TEST_Id= test_df.iloc[:,:1].values\n",
        "    TEST_Id=TEST_Id.flatten()\n",
        "    TEST_Id=list(TEST_Id)\n",
        "    y_test_pred=list(Y_test)\n",
        "    save_y_pred(TEST_Id, y_test_pred, file_name)"
      ]
    }
  ],
  "metadata": {
    "kernelspec": {
      "display_name": "Python 3 (ipykernel)",
      "language": "python",
      "name": "python3"
    },
    "language_info": {
      "codemirror_mode": {
        "name": "ipython",
        "version": 3
      },
      "file_extension": ".py",
      "mimetype": "text/x-python",
      "name": "python",
      "nbconvert_exporter": "python",
      "pygments_lexer": "ipython3",
      "version": "3.9.12"
    },
    "colab": {
      "provenance": [],
      "include_colab_link": true
    }
  },
  "nbformat": 4,
  "nbformat_minor": 0
}